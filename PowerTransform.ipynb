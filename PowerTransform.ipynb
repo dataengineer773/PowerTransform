{
 "cells": [
  {
   "cell_type": "code",
   "execution_count": 1,
   "id": "a926df38-6342-4fd7-b420-97a85750e1dc",
   "metadata": {},
   "outputs": [],
   "source": [
    "# demonstration of the power transform on data with a skew\n",
    "from numpy import exp\n",
    "from numpy.random import randn\n",
    "from sklearn.preprocessing import PowerTransformer\n",
    "from matplotlib import pyplot"
   ]
  },
  {
   "cell_type": "code",
   "execution_count": 2,
   "id": "8d353806-4ea4-4552-a947-7645a6a54219",
   "metadata": {},
   "outputs": [],
   "source": [
    "# generate gussian data sample\n",
    "data = randn(1000)"
   ]
  },
  {
   "cell_type": "code",
   "execution_count": 3,
   "id": "a0e5344b-feb9-401c-83b6-c1e17a997658",
   "metadata": {},
   "outputs": [],
   "source": [
    "# add a skew to the data distribution\n",
    "data = exp(data)"
   ]
  },
  {
   "cell_type": "code",
   "execution_count": 4,
   "id": "70f14b85-da14-4d8e-9649-ce466cde3001",
   "metadata": {},
   "outputs": [
    {
     "data": {
      "image/png": "[encoded data removed]",
      "text/plain": [
       "<Figure size 432x288 with 1 Axes>"
      ]
     },
     "metadata": {
      "needs_background": "light"
     },
     "output_type": "display_data"
    }
   ],
   "source": [
    "# histogram of the data distribution\n",
    "pyplot.hist(data, bins=25)\n",
    "pyplot.show()"
   ]
  },
  {
   "cell_type": "code",
   "execution_count": 5,
   "id": "3be10409-4e2b-4e83-b3c3-d138ef4a258b",
   "metadata": {},
   "outputs": [],
   "source": [
    "# reshape data to have rows and columns\n",
    "data = data.reshape((len(data), 1))"
   ]
  },
  {
   "cell_type": "code",
   "execution_count": 6,
   "id": "ee2d9f92-6623-4212-8eb4-c0d8c3bbdd70",
   "metadata": {},
   "outputs": [],
   "source": [
    "# power transform the raw data\n",
    "power = PowerTransformer(method='yeo-johnson', standardize=True)\n",
    "data_trans = power.fit_transform(data)"
   ]
  },
  {
   "cell_type": "code",
   "execution_count": 7,
   "id": "bd2d1f7d-7095-4b93-abe5-1a052de67ede",
   "metadata": {},
   "outputs": [
    {
     "data": {
      "image/png": "[encoded data removed]",
      "text/plain": [
       "<Figure size 432x288 with 1 Axes>"
      ]
     },
     "metadata": {
      "needs_background": "light"
     },
     "output_type": "display_data"
    }
   ],
   "source": [
    "# histogram of the transformed data\n",
    "pyplot.hist(data_trans, bins=25)\n",
    "pyplot.show()"
   ]
  },
  {
   "cell_type": "code",
   "execution_count": null,
   "id": "cfccc445-5cef-47f1-ac44-b30b299c2e7d",
   "metadata": {},
   "outputs": [],
   "source": []
  }
 ],
 "metadata": {
  "kernelspec": {
   "display_name": "Python 3 (ipykernel)",
   "language": "python",
   "name": "python3"
  },
  "language_info": {
   "codemirror_mode": {
    "name": "ipython",
    "version": 3
   },
   "file_extension": ".py",
   "mimetype": "text/x-python",
   "name": "python",
   "nbconvert_exporter": "python",
   "pygments_lexer": "ipython3",
   "version": "3.10.12"
  }
 },
 "nbformat": 4,
 "nbformat_minor": 5
}
